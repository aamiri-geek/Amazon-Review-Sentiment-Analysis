{
 "cells": [
  {
   "cell_type": "code",
   "execution_count": 1,
   "id": "db030e9b",
   "metadata": {},
   "outputs": [],
   "source": [
    "import numpy as np \n",
    "import pandas as pd\n",
    "import bz2"
   ]
  },
  {
   "cell_type": "code",
   "execution_count": 2,
   "id": "84b878b2",
   "metadata": {},
   "outputs": [],
   "source": [
    "def labels_text(x):\n",
    "  label=[]\n",
    "  text=[]\n",
    "  for line in bz2.BZ2File(x):\n",
    "    decode = line.decode(\"utf-8\")\n",
    "    label.append(int(decode[9]) - 1)\n",
    "    text.append(decode[10:].strip())\n",
    "  return np.array(label),text\n",
    "\n",
    "train_label, train_text = labels_text('train.ft.txt.bz2')\n",
    "test_label, test_text = labels_text('test.ft.txt.bz2')"
   ]
  },
  {
   "cell_type": "code",
   "execution_count": 3,
   "id": "a7e32bff",
   "metadata": {},
   "outputs": [],
   "source": [
    "from sklearn.utils import shuffle\n",
    "train_text, train_label = shuffle(train_text, train_label)\n",
    "test_text, test_label = shuffle(test_text, test_label)"
   ]
  },
  {
   "cell_type": "code",
   "execution_count": 4,
   "id": "1587c4eb",
   "metadata": {},
   "outputs": [
    {
     "data": {
      "text/plain": [
       "\"About that extra DVD...: If you're gonna buy this cd, definately get this edition, with the bonus DVD. Although the DVD only features 4 music videos and 2 songs (it's pretty basic, and not incredibly exciting), it's a nice supplement to the CD. (plus it's free) Whatever you do, don't pay extra for the DVD disc. The CD is only about 40 minutes long, so the added DVD disc makes your purchase slightly more worth the money. Should you buy it? Well, I bought it and I wasn't disappointed. It's one of those things that if you're contemplating buying it, then go for it. The CD has an old early-60's rock-esque sound to it, yet while I listen to it, I am also reminded of the Violent Femmes.\""
      ]
     },
     "execution_count": 4,
     "metadata": {},
     "output_type": "execute_result"
    }
   ],
   "source": [
    "train_text[0]"
   ]
  },
  {
   "cell_type": "code",
   "execution_count": 5,
   "id": "bfcd30d6",
   "metadata": {},
   "outputs": [
    {
     "data": {
      "text/plain": [
       "1"
      ]
     },
     "execution_count": 5,
     "metadata": {},
     "output_type": "execute_result"
    }
   ],
   "source": [
    "train_label[0]"
   ]
  },
  {
   "cell_type": "code",
   "execution_count": 6,
   "id": "82c40e3d",
   "metadata": {},
   "outputs": [
    {
     "data": {
      "text/plain": [
       "3600000"
      ]
     },
     "execution_count": 6,
     "metadata": {},
     "output_type": "execute_result"
    }
   ],
   "source": [
    "len(train_text)"
   ]
  },
  {
   "cell_type": "code",
   "execution_count": 7,
   "id": "d0b96713",
   "metadata": {},
   "outputs": [
    {
     "data": {
      "text/plain": [
       "400000"
      ]
     },
     "execution_count": 7,
     "metadata": {},
     "output_type": "execute_result"
    }
   ],
   "source": [
    "len(test_text)"
   ]
  },
  {
   "cell_type": "code",
   "execution_count": 8,
   "id": "265ddbe5",
   "metadata": {},
   "outputs": [],
   "source": [
    "train_text=train_text[0:10000]\n",
    "train_label=train_label[0:10000]"
   ]
  },
  {
   "cell_type": "code",
   "execution_count": 9,
   "id": "f39e19ff",
   "metadata": {},
   "outputs": [],
   "source": [
    "test_text=test_text[0:2500]\n",
    "test_label=test_label[0:2500]"
   ]
  },
  {
   "cell_type": "code",
   "execution_count": 10,
   "id": "31f90369",
   "metadata": {},
   "outputs": [
    {
     "name": "stderr",
     "output_type": "stream",
     "text": [
      "[nltk_data] Downloading package stopwords to C:\\Users\\Mohammed\n",
      "[nltk_data]     Fouzan\\AppData\\Roaming\\nltk_data...\n",
      "[nltk_data]   Package stopwords is already up-to-date!\n"
     ]
    }
   ],
   "source": [
    "import re\n",
    "import nltk\n",
    "nltk.download('stopwords')\n",
    "from nltk.corpus import stopwords\n",
    "from nltk.stem.porter import PorterStemmer\n",
    "corpus_train=[]\n",
    "\n",
    "for i in range(10000):\n",
    "    review = re.sub('\".*?\"', '', train_text[i]) #removing any word within quotation marks\n",
    "    review = re.sub('[^a-zA-Z]', ' ', review) #keeping only letters and removing anything else\n",
    "    review = review.lower() #converting everything to lowercase\n",
    "    review = review.split() #splitting each word in string and placing it into a list\n",
    "    ps = PorterStemmer() #stemming\n",
    "    all_stopwords = stopwords.words('english')\n",
    "    all_stopwords.remove('not') \n",
    "    review = [ps.stem(word) for word in review if not word in set(all_stopwords)]\n",
    "    review = ' '.join(review) #forming a string form a splitted list of words\n",
    "    corpus_train.append(review)"
   ]
  },
  {
   "cell_type": "code",
   "execution_count": 11,
   "id": "5b8be230",
   "metadata": {},
   "outputs": [],
   "source": [
    "from sklearn.feature_extraction.text import CountVectorizer\n",
    "cv = CountVectorizer(max_features = 1500)\n",
    "X = cv.fit_transform(corpus_train).toarray()\n",
    "y = train_label[0:10000]"
   ]
  },
  {
   "cell_type": "code",
   "execution_count": 12,
   "id": "c1b740bf",
   "metadata": {},
   "outputs": [],
   "source": [
    "from sklearn.model_selection import train_test_split\n",
    "X_train, X_val, y_train, y_val = train_test_split(X, y, test_size = 0.25, random_state = 0)"
   ]
  },
  {
   "cell_type": "code",
   "execution_count": 13,
   "id": "6e37c930",
   "metadata": {},
   "outputs": [
    {
     "data": {
      "text/plain": [
       "SVC(C=3, random_state=0)"
      ]
     },
     "execution_count": 13,
     "metadata": {},
     "output_type": "execute_result"
    }
   ],
   "source": [
    "from sklearn.svm import SVC\n",
    "classifier = SVC(C=3,kernel = 'rbf', random_state = 0)#2.0=84.52(-),1.75=84.72(83.16),1.5=84.84(83.13),3.25=84.6(-)\n",
    "classifier.fit(X_train, y_train)"
   ]
  },
  {
   "cell_type": "code",
   "execution_count": 14,
   "id": "bc8daa22",
   "metadata": {},
   "outputs": [],
   "source": [
    "y_pred = classifier.predict(X_val)"
   ]
  },
  {
   "cell_type": "code",
   "execution_count": 15,
   "id": "7fcfad53",
   "metadata": {},
   "outputs": [
    {
     "name": "stdout",
     "output_type": "stream",
     "text": [
      "[[1070  207]\n",
      " [ 168 1055]]\n",
      "0.85\n"
     ]
    }
   ],
   "source": [
    "from sklearn.metrics import confusion_matrix, accuracy_score\n",
    "cm = confusion_matrix(y_val, y_pred)\n",
    "print(cm)\n",
    "acc = accuracy_score(y_val, y_pred)\n",
    "print(acc)"
   ]
  },
  {
   "cell_type": "code",
   "execution_count": 16,
   "id": "1ed2ff1b",
   "metadata": {},
   "outputs": [
    {
     "name": "stdout",
     "output_type": "stream",
     "text": [
      "Accuracy: 84.83 %\n",
      "Standard Deviation: 1.78 %\n"
     ]
    }
   ],
   "source": [
    "from sklearn.model_selection import cross_val_score\n",
    "accuracies = cross_val_score(estimator = classifier, X = X_train, y = y_train, cv = 10)\n",
    "print(\"Accuracy: {:.2f} %\".format(accuracies.mean()*100))\n",
    "print(\"Standard Deviation: {:.2f} %\".format(accuracies.std()*100))"
   ]
  },
  {
   "cell_type": "code",
   "execution_count": 17,
   "id": "3b5ee85d",
   "metadata": {},
   "outputs": [],
   "source": [
    "corpus_test=[]\n",
    "for i in range(2500):\n",
    "    review = re.sub('\".*?\"', '', test_text[i]) #removing any word within quotation marks\n",
    "    review = re.sub('[^a-zA-Z]', ' ', review) #keeping only letters and removing anything else\n",
    "    review = review.lower()\n",
    "    review = review.split()\n",
    "    ps = PorterStemmer()\n",
    "    all_stopwords = stopwords.words('english')\n",
    "    all_stopwords.remove('not')\n",
    "    review = [ps.stem(word) for word in review if not word in set(all_stopwords)]\n",
    "    review = ' '.join(review)\n",
    "    corpus_test.append(review)"
   ]
  },
  {
   "cell_type": "code",
   "execution_count": 18,
   "id": "f1f9db65",
   "metadata": {},
   "outputs": [],
   "source": [
    "X_test = cv.transform(corpus_test).toarray()\n",
    "y_test = test_label[0:2500]"
   ]
  },
  {
   "cell_type": "code",
   "execution_count": 19,
   "id": "2a836a84",
   "metadata": {},
   "outputs": [],
   "source": [
    "y_pred_new = classifier.predict(X_test)"
   ]
  },
  {
   "cell_type": "code",
   "execution_count": 21,
   "id": "0eaad3b1",
   "metadata": {},
   "outputs": [
    {
     "name": "stdout",
     "output_type": "stream",
     "text": [
      "[[1042  217]\n",
      " [ 184 1057]]\n",
      "83.96000000000001\n"
     ]
    }
   ],
   "source": [
    "cm_final = confusion_matrix(y_test, y_pred_new)\n",
    "print(cm_final)\n",
    "acc_final = accuracy_score(y_test, y_pred_new)\n",
    "print(acc_final*100)"
   ]
  },
  {
   "cell_type": "code",
   "execution_count": null,
   "id": "ac7ed4dd",
   "metadata": {},
   "outputs": [],
   "source": []
  }
 ],
 "metadata": {
  "kernelspec": {
   "display_name": "Python 3",
   "language": "python",
   "name": "python3"
  },
  "language_info": {
   "codemirror_mode": {
    "name": "ipython",
    "version": 3
   },
   "file_extension": ".py",
   "mimetype": "text/x-python",
   "name": "python",
   "nbconvert_exporter": "python",
   "pygments_lexer": "ipython3",
   "version": "3.8.8"
  }
 },
 "nbformat": 4,
 "nbformat_minor": 5
}
